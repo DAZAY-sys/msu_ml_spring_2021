{
 "cells": [
  {
   "cell_type": "markdown",
   "metadata": {},
   "source": [
    "### Алгоритмы интеллектуальной обработки больших объемов данных\n",
    "## Домашнее задание №3 - Дерево решений\n"
   ]
  },
  {
   "cell_type": "markdown",
   "metadata": {},
   "source": [
    "**Общая информация**\n",
    "\n",
    "**Срок сдачи:** 3 мая 2021, 08:30   \n",
    "**Штраф за опоздание:** -2 балла после 08:30 03 мая, -4 балла после 08:30 10 мая, -6 баллов после 08:30 17 мая, -8 баллов после 08:30 24 мая.\n",
    "\n",
    "При отправлении ДЗ указывайте фамилию в названии файла Присылать ДЗ необходимо в виде ссылки на свой github репозиторий на почту ml1.sphere@mail.ru с указанием темы в следующем формате:\n",
    "[ML0221, Задание 3] Фамилия Имя. \n",
    "\n",
    "\n",
    "Используйте данный Ipython Notebook при оформлении домашнего задания."
   ]
  },
  {
   "cell_type": "markdown",
   "metadata": {},
   "source": [
    "##  Реализуем дерево решений (3 балла)"
   ]
  },
  {
   "cell_type": "markdown",
   "metadata": {},
   "source": [
    "Допишите недостающие части дерева решений. Ваша реализация дерева должна работать по точности не хуже DecisionTreeClassifier из sklearn.\n",
    "Внимание: если Вас не устраивает предложенная структура хранения дерева, Вы без потери баллов можете сделать свой класс DecisionTreeClassifier, в котором сами полностью воспроизведете алгоритм дерева решений. Обязательно в нем иметь только функции fit, predict"
   ]
  },
  {
   "cell_type": "code",
   "execution_count": 1,
   "metadata": {},
   "outputs": [],
   "source": [
    "import matplotlib.pyplot as plt\n",
    "import numpy as np\n",
    "import pandas as pd\n",
    "\n",
    "from sklearn.datasets import load_wine\n",
    "from sklearn.ensemble import RandomForestClassifier\n",
    "from sklearn.metrics import accuracy_score\n",
    "from sklearn.model_selection import KFold, train_test_split, GridSearchCV, RandomizedSearchCV\n",
    "from sklearn.tree import DecisionTreeClassifier"
   ]
  },
  {
   "cell_type": "code",
   "execution_count": 2,
   "metadata": {},
   "outputs": [],
   "source": [
    "class MyDecisionTreeClassifier:\n",
    "    NON_LEAF_TYPE = 0\n",
    "    LEAF_TYPE = 1\n",
    "\n",
    "    def __init__(self, min_samples_split=2, max_depth=5, criterion='gini'):\n",
    "        \"\"\"\n",
    "        criterion -- критерий расщепления. необходимо релизовать три:\n",
    "        Ошибка классификации, Индекс Джини, Энтропийный критерий\n",
    "        max_depth -- максимальная глубина дерева\n",
    "        min_samples_split -- минимальное число объектов в листе, чтобы сделать новый сплит\n",
    "        \"\"\"\n",
    "        self.min_samples_split = min_samples_split\n",
    "        self.max_depth = max_depth\n",
    "        self.num_class = -1\n",
    "        \n",
    "        # Для последнего задания\n",
    "        self.feature_importances_ = {}\n",
    "        self.criterion = criterion\n",
    "        # Структура, которая описывает дерево\n",
    "        # Представляет словарь, где для  node_id (айдишник узла дерева) храним\n",
    "        # (тип_узла, айдишник признака сплита, порог сплита) если тип NON_LEAF_TYPE\n",
    "        # (тип_узла, предсказание класса, вероятность класса) если тип LEAF_TYPE\n",
    "        # Подразумевается, что у каждого node_id в дереве слева \n",
    "        # узел с айди 2 * node_id + 1, а справа 2 * node_id + 2\n",
    "        self.tree = dict()\n",
    "\n",
    "    def __div_samples(self, x, y, feature_id, threshold):\n",
    "        \"\"\"\n",
    "        Разделяет объекты на 2 множества\n",
    "        x -- матрица объектов\n",
    "        y -- вектор ответов\n",
    "        feature_id -- айдишник признака, по которому делаем сплит\n",
    "        threshold -- порог, по которому делаем сплит\n",
    "        \"\"\"\n",
    "        left_mask = x[:, feature_id] < threshold\n",
    "        right_mask = ~left_mask\n",
    "        return x[left_mask], x[right_mask], y[left_mask], y[right_mask]\n",
    "    \n",
    "    \n",
    "    def __find_threshold(self, x, y):\n",
    "        \"\"\"\n",
    "        Находим оптимальный признак и порог для сплита\n",
    "        Здесь используемые разные impurity в зависимости от self.criterion\n",
    "        \"\"\"\n",
    "        # Ваш код здесь\n",
    "        uniq, counts = np.unique(y, return_counts = True)\n",
    "        numb = np.sum(counts)\n",
    "        F = 0\n",
    "            \n",
    "        if (self.criterion == 'classification_error'):\n",
    "            F = 1 - np.max(counts) / numb\n",
    "        elif (self.criterion == 'entropy'):            \n",
    "            pvk = counts / numb\n",
    "            F = -np.sum(pvk * np.log2(pvk))\n",
    "        elif (self.criterion == 'gini'):\n",
    "            F = 1 - np.sum((counts / numb)**2)\n",
    "            \n",
    "        best_index = (0, 0)\n",
    "        res = 0\n",
    "\n",
    "        for i in range(x.shape[0]):\n",
    "            for j in range(x.shape[1]):\n",
    "                y_l, y_r = self.__div_samples(x, y, j, x[i, j])[-2:]\n",
    "                \n",
    "                f = F\n",
    "                if (len(y_l) != 0 and len(y_r) != 0):\n",
    "                    for trees in [y_l, y_r]:\n",
    "                        _, counts = np.unique(trees, return_counts = True)\n",
    "\n",
    "                        if (self.criterion == 'classification_error'):\n",
    "                            f -= len(trees) / x.shape[0] * (1 - np.max(counts) / len(trees))\n",
    "                                                            \n",
    "                        elif (self.criterion == 'entropy'):\n",
    "                            pvm = counts / len(trees)\n",
    "                            f -= len(trees) / x.shape[0] * (-np.sum(pvm * np.log2(pvm)))\n",
    "\n",
    "                        elif (self.criterion == 'gini'):\n",
    "                            f -= len(trees) / x.shape[0] * (1 - np.sum((counts / np.sum(counts))**2))\n",
    "                                                            \n",
    "                    if (f > res):\n",
    "                        res = f\n",
    "                        best_index = (i, j)\n",
    "                        \n",
    "        if (res == 0):\n",
    "            ind = np.argmax(counts)\n",
    "            return (self.__class__.LEAF_TYPE, uniq[ind], counts[ind] / numb)\n",
    "        else:\n",
    "            self.feature_importances_[best_index[1]] =  self.feature_importances_.get(best_index[1], 0) + f\n",
    "            return (self.__class__.NON_LEAF_TYPE, best_index[1], x[best_index])        \n",
    "    \n",
    "    def __fit_node(self, x, y, node_id, depth):\n",
    "        \"\"\"\n",
    "        Делаем новый узел в дереве\n",
    "        Решаем, терминальный он или нет\n",
    "        Если нет, то строим левый узел  с айди 2 * node_id + 1\n",
    "        И правый узел с  айди 2 * node_id + 2\n",
    "        \"\"\"\n",
    "        # Ваш код здесь\n",
    "        if (depth < self.max_depth and len(y) >= self.min_samples_split):\n",
    "#             print(\"there\", len(y), self.min_samples_split)\n",
    "            leaf_type, ind, threshold = self.__find_threshold(x, y)\n",
    "            self.tree[node_id] = (leaf_type, ind, threshold)\n",
    "            \n",
    "            if (leaf_type == self.__class__.NON_LEAF_TYPE):\n",
    "                x_left, x_right, y_left, y_right = self. __div_samples(x, y, ind, threshold)\n",
    "                \n",
    "                self.__fit_node(x_left, y_left, 2 * node_id + 1, depth + 1)\n",
    "                self.__fit_node(x_right, y_right, 2 * node_id + 2, depth + 1)\n",
    "                \n",
    "            #если макс глубина, то leaf_type делам\n",
    "        elif (depth == self.max_depth or len(y) < self.min_samples_split): \n",
    "#             print('here')\n",
    "            uniq, counts = np.unique(y, return_counts = True)\n",
    "            ind = np.argmax(counts)\n",
    "            self.tree[node_id] = (self.__class__.LEAF_TYPE, uniq[ind], counts[ind] / np.sum(counts))\n",
    "    \n",
    "    def fit(self, x, y):\n",
    "        \"\"\"\n",
    "        Рекурсивно строим дерево решений\n",
    "        Начинаем с корня node_id 0\n",
    "        \"\"\"\n",
    "        self.num_class = np.unique(y).size\n",
    "        self.__fit_node(x, y, 0, 0) \n",
    "\n",
    "    def __predict_class(self, x, node_id):\n",
    "        \"\"\"\n",
    "        Рекурсивно обходим дерево по всем узлам,\n",
    "        пока не дойдем до терминального\n",
    "        \"\"\"\n",
    "        node = self.tree[node_id]\n",
    "        if node[0] == self.__class__.NON_LEAF_TYPE:\n",
    "            _, feature_id, threshold = node\n",
    "            if x[feature_id] < threshold:\n",
    "                return self.__predict_class(x, 2 * node_id + 1)\n",
    "            else:\n",
    "                return self.__predict_class(x, 2 * node_id + 2)\n",
    "        else:\n",
    "            return node[1]\n",
    "        \n",
    "    def predict(self, X):\n",
    "        \"\"\"\n",
    "        Вызывает predict для всех объектов из матрицы X\n",
    "        \"\"\"\n",
    "        return np.array([self.__predict_class(x, 0) for x in X])\n",
    "    \n",
    "    def fit_predict(self, x_train, y_train, predicted_x):\n",
    "        self.fit(x_train, y_train)\n",
    "        return self.predict(predicted_x)\n",
    "    \n",
    "    def get_feature_importance(self):\n",
    "        \"\"\"\n",
    "        Возвращает важность признаков\n",
    "        \"\"\"\n",
    "        # Ваш код здесь\n",
    "        return sorted(self.feature_importances_, key=self.feature_importances_.get, reverse=True)"
   ]
  },
  {
   "cell_type": "code",
   "execution_count": 3,
   "metadata": {},
   "outputs": [],
   "source": [
    "my_clf = MyDecisionTreeClassifier(min_samples_split=2)\n",
    "clf = DecisionTreeClassifier(min_samples_split=2)"
   ]
  },
  {
   "cell_type": "code",
   "execution_count": 4,
   "metadata": {},
   "outputs": [],
   "source": [
    "wine = load_wine()\n",
    "X_train, X_test, y_train, y_test = train_test_split(wine.data, wine.target, test_size=0.1, stratify=wine.target)"
   ]
  },
  {
   "cell_type": "code",
   "execution_count": 5,
   "metadata": {},
   "outputs": [
    {
     "data": {
      "text/plain": [
       "DecisionTreeClassifier()"
      ]
     },
     "execution_count": 5,
     "metadata": {},
     "output_type": "execute_result"
    }
   ],
   "source": [
    "my_clf.fit(X_train, y_train)\n",
    "clf.fit(X_train, y_train)"
   ]
  },
  {
   "cell_type": "code",
   "execution_count": 6,
   "metadata": {},
   "outputs": [
    {
     "data": {
      "text/plain": [
       "(array([0, 1, 2, 0, 0, 1, 0, 2, 1, 2, 0, 2, 2, 1, 1, 1, 1, 0]),\n",
       " array([0, 1, 2, 0, 0, 1, 0, 2, 1, 2, 0, 2, 2, 1, 1, 1, 1, 0]))"
      ]
     },
     "execution_count": 6,
     "metadata": {},
     "output_type": "execute_result"
    }
   ],
   "source": [
    "y_pred = clf.predict(X_test)\n",
    "y_pred, y_test"
   ]
  },
  {
   "cell_type": "code",
   "execution_count": 7,
   "metadata": {},
   "outputs": [
    {
     "data": {
      "text/plain": [
       "(array([0, 1, 2, 0, 0, 1, 0, 2, 1, 2, 0, 2, 2, 1, 1, 1, 1, 0]),\n",
       " array([0, 1, 2, 0, 0, 1, 0, 2, 1, 2, 0, 2, 2, 1, 1, 1, 1, 0]))"
      ]
     },
     "execution_count": 7,
     "metadata": {},
     "output_type": "execute_result"
    }
   ],
   "source": [
    "my_pred = my_clf.predict(X_test)\n",
    "my_pred, y_test"
   ]
  },
  {
   "cell_type": "code",
   "execution_count": 8,
   "metadata": {},
   "outputs": [
    {
     "data": {
      "text/plain": [
       "(1.0, 1.0)"
      ]
     },
     "execution_count": 8,
     "metadata": {},
     "output_type": "execute_result"
    }
   ],
   "source": [
    "a1 = accuracy_score(y_pred=clf.predict(X_test), y_true=y_test)\n",
    "a2 = accuracy_score(y_pred=my_clf.predict(X_test), y_true=y_test)\n",
    "a1, a2"
   ]
  },
  {
   "cell_type": "markdown",
   "metadata": {},
   "source": [
    "## Ускоряем дерево решений (2 балла)\n",
    "Добиться скорости работы на fit не медленнее чем в 10 раз sklearn на данных wine. \n",
    "Для этого используем numpy."
   ]
  },
  {
   "cell_type": "code",
   "execution_count": 9,
   "metadata": {
    "scrolled": true
   },
   "outputs": [
    {
     "name": "stdout",
     "output_type": "stream",
     "text": [
      "Wall time: 3.02 ms\n"
     ]
    },
    {
     "data": {
      "text/plain": [
       "DecisionTreeClassifier()"
      ]
     },
     "execution_count": 9,
     "metadata": {},
     "output_type": "execute_result"
    }
   ],
   "source": [
    "%time clf.fit(X_train, y_train)"
   ]
  },
  {
   "cell_type": "code",
   "execution_count": 10,
   "metadata": {},
   "outputs": [
    {
     "name": "stdout",
     "output_type": "stream",
     "text": [
      "Wall time: 1.54 s\n"
     ]
    }
   ],
   "source": [
    "%time my_clf.fit(X_train, y_train)"
   ]
  },
  {
   "cell_type": "markdown",
   "metadata": {},
   "source": [
    "## Боевое применение (3 балла)\n",
    "\n",
    "На практике Вы познакомились с датасетом Speed Dating Data. В нем каждая пара в быстрых свиданиях характеризуется определенным набором признаков. Задача -- предсказать, произойдет ли матч пары (колонка match). \n",
    "\n",
    "Пример работы с датасетом можете найти в практике пункт 2\n",
    "https://github.com/VVVikulin/ml1.sphere/blob/master/2019-09/lecture_06/pract-trees.ipynb\n",
    "\n",
    "Данные и описания колонок лежат тут\n",
    "https://cloud.mail.ru/public/8nHV/p6J7wY1y1/speed-dating-experiment/"
   ]
  },
  {
   "cell_type": "markdown",
   "metadata": {},
   "source": [
    "Скачайте датасет, обработайте данные, как показано на семинаре или своим собственным способом. Обучите дерево классифкации. В качестве таргета возьмите колонку 'match'. Постарайтесь хорошо обработать признаки, чтобы выбить максимальную точность. Если точность будет близка к случайному гаданию, задание не будет защитано. \n"
   ]
  },
  {
   "cell_type": "code",
   "execution_count": 11,
   "metadata": {},
   "outputs": [],
   "source": [
    "df = pd.read_csv('./data/Speed Dating Data.csv', encoding='latin1')"
   ]
  },
  {
   "cell_type": "code",
   "execution_count": 12,
   "metadata": {},
   "outputs": [],
   "source": [
    "df = df.iloc[:, :97]\n",
    "\n",
    "df = df.drop([\n",
    "    'id', 'idg', 'condtn', 'wave', 'round', 'position', 'positin1', 'order', 'partner', 'age_o',\n",
    "    'race_o', 'pf_o_att', 'pf_o_sin', 'pf_o_int', 'pf_o_fun', 'pf_o_amb', 'pf_o_sha', 'dec_o',\n",
    "    'attr_o', 'sinc_o', 'intel_o', 'fun_o', 'amb_o', 'shar_o', 'like_o', 'prob_o', 'met_o',\n",
    "    'from', 'zipcode', 'career', 'sports', 'tvsports', 'exercise', 'dining', 'museums', 'art',\n",
    "    'hiking', 'gaming', 'clubbing', 'reading', 'tv', 'theater', 'movies', 'concerts',\n",
    "    'music', 'shopping', 'yoga', 'expnum', 'field', 'undergra',\n",
    "], axis=1)"
   ]
  },
  {
   "cell_type": "code",
   "execution_count": 13,
   "metadata": {},
   "outputs": [],
   "source": [
    "df = df.dropna(subset=['age'])\n",
    "df.loc[:, 'mn_sat'] = df.loc[:, 'mn_sat'].str.replace(',', '').astype(np.float)\n",
    "df.loc[:, 'tuition'] = df.loc[:, 'tuition'].str.replace(',', '').astype(np.float)\n",
    "df = df.dropna(subset=['imprelig', 'imprace'])\n",
    "df.loc[:, 'income'] = df.loc[:, 'income'].str.replace(',', '').astype(np.float)\n",
    "df = df.dropna(subset=['date'])\n",
    "df.loc[:, 'temp_totalsum'] = df.loc[:, ['attr1_1', 'sinc1_1', 'intel1_1', 'fun1_1', 'amb1_1', 'shar1_1']].sum(axis=1)\n",
    "df.loc[:, ['attr1_1', 'sinc1_1', 'intel1_1', 'fun1_1', 'amb1_1', 'shar1_1']] = \\\n",
    "    (df.loc[:, ['attr1_1', 'sinc1_1', 'intel1_1', 'fun1_1', 'amb1_1', 'shar1_1']].T / df.loc[:,\n",
    "                                                                                      'temp_totalsum'].T).T * 100\n",
    "df.loc[:, 'temp_totalsum'] = df.loc[:, ['attr2_1', 'sinc2_1', 'intel2_1', 'fun2_1', 'amb2_1', 'shar2_1']].sum(axis=1)\n",
    "df.loc[:, ['attr2_1', 'sinc2_1', 'intel2_1', 'fun2_1', 'amb2_1', 'shar2_1']] = \\\n",
    "    (df.loc[:, ['attr2_1', 'sinc2_1', 'intel2_1', 'fun2_1', 'amb2_1', 'shar2_1']].T / df.loc[:,\n",
    "                                                                                      'temp_totalsum'].T).T * 100\n",
    "df = df.drop(['temp_totalsum'], axis=1)\n",
    "for i in [4, 5]:\n",
    "    feat = ['attr{}_1'.format(i), 'sinc{}_1'.format(i),\n",
    "            'intel{}_1'.format(i), 'fun{}_1'.format(i),\n",
    "            'amb{}_1'.format(i), 'shar{}_1'.format(i)]\n",
    "\n",
    "    if i != 4:\n",
    "        feat.remove('shar{}_1'.format(i))\n",
    "\n",
    "    df = df.drop(feat, axis=1)\n",
    "    \n",
    "df_male = df.query('gender == 1').drop_duplicates(subset=['iid', 'pid']) \\\n",
    "    .drop(['gender'], axis=1).dropna()\n",
    "df_female = df.query('gender == 0').drop_duplicates(subset=['iid']) \\\n",
    "    .drop(['gender', 'match', 'int_corr', 'samerace'], axis=1).dropna()\n",
    "\n",
    "df_female.columns = df_female.columns + '_f'\n",
    "data = pd.merge(df_male, df_female, left_on='pid', right_on='iid_f')"
   ]
  },
  {
   "cell_type": "code",
   "execution_count": 14,
   "metadata": {},
   "outputs": [],
   "source": [
    "from sklearn.model_selection import train_test_split\n",
    "y = data['match']\n",
    "X_train, X_validation, y_train, y_validation = train_test_split(data.drop('match', axis=1).values,\n",
    "                                                                y.values, test_size=0.1, random_state=42)"
   ]
  },
  {
   "cell_type": "markdown",
   "metadata": {},
   "source": [
    "Разбейте датасет на трейн и валидацию. Подберите на валидации оптимальный критерий  информативности. \n",
    "Постройте графики зависимости точности на валидации от глубины дерева, от минимального числа объектов для сплита. \n",
    "Какой максимальной точности удалось достигнуть?"
   ]
  },
  {
   "cell_type": "code",
   "execution_count": 15,
   "metadata": {},
   "outputs": [],
   "source": [
    "my_clf = MyDecisionTreeClassifier()\n",
    "clf = DecisionTreeClassifier()"
   ]
  },
  {
   "cell_type": "code",
   "execution_count": 17,
   "metadata": {},
   "outputs": [
    {
     "data": {
      "text/plain": [
       "DecisionTreeClassifier()"
      ]
     },
     "execution_count": 17,
     "metadata": {},
     "output_type": "execute_result"
    }
   ],
   "source": [
    "my_clf.fit(X_train, y_train)\n",
    "clf.fit(X_train, y_train)"
   ]
  },
  {
   "cell_type": "code",
   "execution_count": 18,
   "metadata": {},
   "outputs": [
    {
     "name": "stdout",
     "output_type": "stream",
     "text": [
      "0.7575757575757576\n",
      "0.9090909090909091\n"
     ]
    }
   ],
   "source": [
    "print(accuracy_score(y_pred=clf.predict(X_validation), y_true=y_validation))\n",
    "print(accuracy_score(y_pred=my_clf.predict(X_validation), y_true=y_validation))"
   ]
  },
  {
   "cell_type": "code",
   "execution_count": 19,
   "metadata": {},
   "outputs": [],
   "source": [
    "result = {'criterion': 'gini', 'max_depth': 1, 'min_samples_split': 1}\n",
    "\n",
    "X_train, X_test, y_train, y_test = train_test_split(data.drop('match', axis=1).values,\n",
    "                                                                y.values, test_size=0.1, random_state=42)"
   ]
  },
  {
   "cell_type": "code",
   "execution_count": 170,
   "metadata": {},
   "outputs": [
    {
     "name": "stdout",
     "output_type": "stream",
     "text": [
      "gini 1 1\n",
      "gini 1 3\n",
      "gini 1 5\n",
      "gini 1 7\n",
      "gini 1 9\n",
      "gini 1 11\n",
      "gini 1 13\n",
      "gini 1 15\n",
      "gini 2 1\n",
      "gini 2 3\n",
      "gini 2 5\n",
      "gini 2 7\n",
      "gini 2 9\n",
      "gini 2 11\n",
      "gini 2 13\n",
      "gini 2 15\n",
      "gini 3 1\n",
      "gini 3 3\n",
      "gini 3 5\n",
      "gini 3 7\n",
      "gini 3 9\n",
      "gini 3 11\n",
      "gini 3 13\n",
      "gini 3 15\n",
      "gini 4 1\n",
      "gini 4 3\n",
      "gini 4 5\n",
      "gini 4 7\n",
      "gini 4 9\n",
      "gini 4 11\n",
      "gini 4 13\n",
      "gini 4 15\n",
      "gini 5 1\n",
      "gini 5 3\n",
      "gini 5 5\n",
      "gini 5 7\n",
      "gini 5 9\n",
      "gini 5 11\n",
      "gini 5 13\n",
      "gini 5 15\n",
      "entropy 1 1\n",
      "entropy 1 3\n",
      "entropy 1 5\n",
      "entropy 1 7\n",
      "entropy 1 9\n",
      "entropy 1 11\n",
      "entropy 1 13\n",
      "entropy 1 15\n",
      "entropy 2 1\n",
      "entropy 2 3\n",
      "entropy 2 5\n",
      "entropy 2 7\n",
      "entropy 2 9\n",
      "entropy 2 11\n",
      "entropy 2 13\n",
      "entropy 2 15\n",
      "entropy 3 1\n",
      "entropy 3 3\n",
      "entropy 3 5\n",
      "entropy 3 7\n",
      "entropy 3 9\n",
      "entropy 3 11\n",
      "entropy 3 13\n",
      "entropy 3 15\n",
      "entropy 4 1\n",
      "entropy 4 3\n",
      "entropy 4 5\n",
      "entropy 4 7\n",
      "entropy 4 9\n",
      "entropy 4 11\n",
      "entropy 4 13\n",
      "entropy 4 15\n",
      "entropy 5 1\n",
      "entropy 5 3\n",
      "entropy 5 5\n",
      "entropy 5 7\n",
      "entropy 5 9\n",
      "entropy 5 11\n",
      "entropy 5 13\n",
      "entropy 5 15\n",
      "classification_error 1 1\n",
      "classification_error 1 3\n",
      "classification_error 1 5\n",
      "classification_error 1 7\n",
      "classification_error 1 9\n",
      "classification_error 1 11\n",
      "classification_error 1 13\n",
      "classification_error 1 15\n",
      "classification_error 2 1\n",
      "classification_error 2 3\n",
      "classification_error 2 5\n",
      "classification_error 2 7\n",
      "classification_error 2 9\n",
      "classification_error 2 11\n",
      "classification_error 2 13\n",
      "classification_error 2 15\n",
      "classification_error 3 1\n",
      "classification_error 3 3\n",
      "classification_error 3 5\n",
      "classification_error 3 7\n",
      "classification_error 3 9\n",
      "classification_error 3 11\n",
      "classification_error 3 13\n",
      "classification_error 3 15\n",
      "classification_error 4 1\n",
      "classification_error 4 3\n",
      "classification_error 4 5\n",
      "classification_error 4 7\n",
      "classification_error 4 9\n",
      "classification_error 4 11\n",
      "classification_error 4 13\n",
      "classification_error 4 15\n",
      "classification_error 5 1\n",
      "classification_error 5 3\n",
      "classification_error 5 5\n",
      "classification_error 5 7\n",
      "classification_error 5 9\n",
      "classification_error 5 11\n",
      "classification_error 5 13\n",
      "classification_error 5 15\n",
      "Best:  {'criterion': 'gini', 'max_depth': 1, 'min_samples_split': 1}\n",
      "0.9090909090909091\n"
     ]
    },
    {
     "data": {
      "text/plain": [
       "{'criterion': 'gini', 'max_depth': 1, 'min_samples_split': 1}"
      ]
     },
     "execution_count": 170,
     "metadata": {},
     "output_type": "execute_result"
    }
   ],
   "source": [
    "best_score = 0\n",
    "result = {}\n",
    "criter = 0\n",
    "\n",
    "X_train, X_test, y_train, y_test = train_test_split(data.drop('match', axis=1).values,\n",
    "                                                                y.values, test_size=0.1, random_state=42)\n",
    "\n",
    "for crit in ['gini', 'entropy', 'classification_error']:\n",
    "    for depth in range(1, 6):\n",
    "        for sample in range(1, 16, 2):\n",
    "#             print(crit, depth, sample)\n",
    "            clf = MyDecisionTreeClassifier(min_samples_split=sample, max_depth=depth, criterion=crit)\n",
    "            clf.fit(X_train, y_train)\n",
    "            score = accuracy_score(y_true=y_test, y_pred=clf.predict(X_test))\n",
    "            if score > best_score:\n",
    "                result['criterion'] = crit\n",
    "                result['max_depth'] = depth\n",
    "                result['min_samples_split'] = sample\n",
    "                best_score = score\n",
    "                \n",
    "print(\"Best: \", result)\n",
    "print(best_score)\n",
    "result"
   ]
  },
  {
   "cell_type": "code",
   "execution_count": 20,
   "metadata": {},
   "outputs": [
    {
     "name": "stdout",
     "output_type": "stream",
     "text": [
      "0.7575757575757576\n",
      "0.9090909090909091\n"
     ]
    }
   ],
   "source": [
    "my_clf = MyDecisionTreeClassifier(**result)\n",
    "clf = DecisionTreeClassifier()\n",
    "my_clf.fit(X_train, y_train)\n",
    "clf.fit(X_train, y_train)\n",
    "print(accuracy_score(y_pred=clf.predict(X_test), y_true=y_test))\n",
    "print(accuracy_score(y_pred=my_clf.predict(X_test), y_true=y_test))"
   ]
  },
  {
   "cell_type": "code",
   "execution_count": 21,
   "metadata": {},
   "outputs": [
    {
     "data": {
      "text/plain": [
       "[<matplotlib.lines.Line2D at 0x21abddc1ac0>]"
      ]
     },
     "execution_count": 21,
     "metadata": {},
     "output_type": "execute_result"
    },
    {
     "data": {
      "image/png": "[encoded data removed]",
      "text/plain": [
       "<Figure size 432x288 with 1 Axes>"
      ]
     },
     "metadata": {
      "needs_background": "light"
     },
     "output_type": "display_data"
    }
   ],
   "source": [
    "depth_plot = []\n",
    "\n",
    "for depth in range(1, 10):\n",
    "    clf = MyDecisionTreeClassifier(min_samples_split=result['min_samples_split'], max_depth=depth, \n",
    "                                   criterion=result['criterion'])\n",
    "    clf.fit(X_train, y_train)\n",
    "    score = accuracy_score(y_pred=clf.predict(X_test), y_true=y_test)\n",
    "    depth_plot.append(score)\n",
    "    \n",
    "plt.xlabel('Tree depth')\n",
    "plt.ylabel('Accuracy')\n",
    "plt.plot(list(range(1, 10)), depth_plot)"
   ]
  },
  {
   "cell_type": "code",
   "execution_count": null,
   "metadata": {},
   "outputs": [],
   "source": [
    "sample_plot = []\n",
    "\n",
    "for samples in range(1, 20, 2):\n",
    "    clf = MyDecisionTreeClassifier(min_samples_split=samples, max_depth=result['max_depth'], \n",
    "                                   criterion=result['criterion'])\n",
    "    clf.fit(X_train, y_train)\n",
    "    score = accuracy_score(y_pred=clf.predict(X_test), y_true=y_test)\n",
    "    sample_plot.append(score)\n",
    "    \n",
    "\n",
    "plt.xlabel('Sample split number')\n",
    "plt.ylabel('Accuracy')\n",
    "plt.plot(list(range(1, 20, 2)), sample_plot)"
   ]
  },
  {
   "cell_type": "markdown",
   "metadata": {},
   "source": [
    "## Находим самые важные признаки (2 балла)\n",
    "\n"
   ]
  },
  {
   "cell_type": "markdown",
   "metadata": {},
   "source": [
    "По построенному дереву  легко понять, какие признаки лучше всего помогли решить задачу. Часто это бывает нужно  не только  для сокращения размерности в данных, но и для лучшего понимания прикладной задачи. Например, Вы хотите понять, какие признаки стоит еще конструировать -- для этого нужно понимать, какие из текущих лучше всего работают в дереве. "
   ]
  },
  {
   "cell_type": "markdown",
   "metadata": {},
   "source": [
    "Самый простой метод -- посчитать число сплитов, где использовался данные признак. Это не лучший вариант, так как по признаку который принимает всего 2 значения, но который почти точно разделяет выборку, число сплитов будет очень 1, но при этом признак сам очень хороший. \n",
    "В этом задании предлагается для каждого признака считать суммарный gain (в лекции обозначено как Q) при использовании этого признака в сплите. Тогда даже у очень хороших признаков с маленьким число сплитов это значение должно быть довольно высоким.  "
   ]
  },
  {
   "cell_type": "markdown",
   "metadata": {},
   "source": [
    "Реализовать это довольно просто: создаете словарь номер фичи : суммарный гейн и добавляете в нужную фичу каждый раз, когда используете ее при построении дерева. "
   ]
  },
  {
   "cell_type": "markdown",
   "metadata": {},
   "source": [
    "Добавьте функционал, который определяет значения feature importance. Обучите дерево на датасете Speed Dating Data.\n",
    "Выведите 10 главных фичей по важности."
   ]
  },
  {
   "cell_type": "code",
   "execution_count": 22,
   "metadata": {},
   "outputs": [],
   "source": [
    "my_clf = MyDecisionTreeClassifier()\n",
    "my_clf.fit(X_train,y_train)"
   ]
  },
  {
   "cell_type": "code",
   "execution_count": 23,
   "metadata": {},
   "outputs": [
    {
     "data": {
      "text/plain": [
       "[24, 13, 49, 47, 40]"
      ]
     },
     "execution_count": 23,
     "metadata": {},
     "output_type": "execute_result"
    }
   ],
   "source": [
    "features = my_clf.get_feature_importance()[:5]\n",
    "features"
   ]
  },
  {
   "cell_type": "markdown",
   "metadata": {},
   "source": [
    "## Фидбек (бесценно)"
   ]
  },
  {
   "cell_type": "markdown",
   "metadata": {},
   "source": [
    "* Какие аспекты обучения деревьев решений Вам показались непонятными? Какое место стоит дополнительно объяснить?"
   ]
  },
  {
   "cell_type": "markdown",
   "metadata": {},
   "source": [
    "### Ваш ответ здесь"
   ]
  },
  {
   "cell_type": "markdown",
   "metadata": {},
   "source": [
    "* Здесь Вы можете оставить отзыв о этой домашней работе или о всем курсе."
   ]
  },
  {
   "cell_type": "markdown",
   "metadata": {},
   "source": [
    "### ВАШ ОТЗЫВ ЗДЕСЬ\n",
    "\n"
   ]
  },
  {
   "cell_type": "markdown",
   "metadata": {
    "collapsed": true
   },
   "source": [
    "Интересное дз, но объем задавил как-то("
   ]
  }
 ],
 "metadata": {
  "anaconda-cloud": {},
  "kernelspec": {
   "display_name": "Python 3",
   "language": "python",
   "name": "python3"
  },
  "language_info": {
   "codemirror_mode": {
    "name": "ipython",
    "version": 3
   },
   "file_extension": ".py",
   "mimetype": "text/x-python",
   "name": "python",
   "nbconvert_exporter": "python",
   "pygments_lexer": "ipython3",
   "version": "3.8.3"
  }
 },
 "nbformat": 4,
 "nbformat_minor": 2
}
